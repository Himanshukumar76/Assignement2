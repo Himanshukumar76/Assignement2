{
 "cells": [
  {
   "cell_type": "code",
   "execution_count": 1,
   "id": "d566aff7-98b1-45cd-8908-050c846d9bd6",
   "metadata": {},
   "outputs": [
    {
     "name": "stdout",
     "output_type": "stream",
     "text": [
      "1\n",
      "2\n",
      "3\n",
      "4\n",
      "5\n",
      "6\n",
      "7\n",
      "8\n",
      "9\n",
      "10\n"
     ]
    },
    {
     "name": "stdin",
     "output_type": "stream",
     "text": [
      "Enter the number :  12\n",
      "Enter the value :  34\n",
      "Enter the value :  0\n"
     ]
    },
    {
     "name": "stdout",
     "output_type": "stream",
     "text": [
      "Total =  46\n"
     ]
    }
   ],
   "source": [
    "# Explain with an example each when to  use a for loop and a while loop.\n",
    "\n",
    "# When we know the loop's end then we should use for loop. \n",
    "# for example : --------\n",
    "\n",
    "# Write a program to print 1 to 10.\n",
    "for i in range(1,11):\n",
    "    print(i)\n",
    "\n",
    "# When we don't know the loop's end then we should use while loop. \n",
    "# for example : --------\n",
    "\n",
    "# write a program to print sum of the numbers untill the user gives 0.\n",
    "\n",
    "total = 0\n",
    "n = int(input(\"Enter the number : \"))\n",
    "while n != 0:\n",
    "    total += n\n",
    "    \n",
    "    n = int(input(\"Enter the value : \"))\n",
    "\n",
    "print(\"Total = \",total)\n"
   ]
  },
  {
   "cell_type": "code",
   "execution_count": 2,
   "id": "8f6c81f9-60ab-461c-999b-a99af95d57a9",
   "metadata": {},
   "outputs": [
    {
     "name": "stdout",
     "output_type": "stream",
     "text": [
      "The sum of first 10 natural numbers : 55\n",
      "The product of first 10 natural numbers : 3628800\n",
      "First 10 natural numbers sum : 55\n",
      "First 10 natural numbers product : 3628800\n"
     ]
    }
   ],
   "source": [
    "# Write a python program to print the sum and product of the frist 10 natural numbers using for and while loops. \n",
    "\n",
    "# for loop : --------\n",
    "\n",
    "\n",
    "sum = 0\n",
    "prod = 1\n",
    "for i in range(1,11):\n",
    "   sum +=i\n",
    "   prod *= i\n",
    "\n",
    "print(\"The sum of first 10 natural numbers :\", sum)\n",
    "print(\"The product of first 10 natural numbers :\", prod)\n",
    "\n",
    "\n",
    "# While loop :---------\n",
    "\n",
    "sum1 = 0\n",
    "prod1 = 1\n",
    "i = 1\n",
    "while(i<=10):\n",
    "    sum1 += i\n",
    "    prod1 *= i\n",
    "    i += 1\n",
    "\n",
    "print(\"First 10 natural numbers sum :\",sum1)\n",
    "print(\"First 10 natural numbers product :\",prod1)\n"
   ]
  },
  {
   "cell_type": "code",
   "execution_count": 3,
   "id": "bdb69433-f781-451c-9ba3-fb59fd6c7226",
   "metadata": {},
   "outputs": [
    {
     "name": "stdin",
     "output_type": "stream",
     "text": [
      "Enter the unit :  310\n"
     ]
    },
    {
     "name": "stdout",
     "output_type": "stream",
     "text": [
      "Your electricity bill is : 2250\n"
     ]
    }
   ],
   "source": [
    "'''3. Create a python program to compute the electricity bill for a household.\n",
    "The per-unit charges in rupees are as follows : For the first 100 units, the user will be charged Rs. 4.5 \n",
    "per unit, for the next 100 units, the user will be charged Rs. 6 per unit, and for the next 100 units, the user\n",
    "will be charged Rs. 10 per unit, After 300 units and above user will be charged Rs. 20 per unit.\n",
    "\n",
    "You are required to take the units of electricity consumed in a month from the user as input. \n",
    "\n",
    "Your program must pass this test case: when the unit of electricity consumed by the user in a month is 310,\n",
    "the total electricity bill should be 2250.'''\n",
    "\n",
    "\n",
    "units = int(input(\"Enter the unit : \"))\n",
    "if(units<=100):\n",
    "            bill = units * 4.5\n",
    "            print(\"The electricity bill is : \", bill)\n",
    "elif(units>100 and units<=200):\n",
    "            bill = (units - 100) * 6 + 100 * 4.5\n",
    "            print(\"Your electricity bill is : \",bill)\n",
    "elif(units>200 and units<=300):\n",
    "            bill = (units - 200) * 10 + 100 * 6 + 100 * 4.5\n",
    "            print(\"Your electricity bill is :\",bill)\n",
    "else:\n",
    "            bill = (units - 300) * 20 + 100 * 10 + 100 * 6 + 100 * 4.5\n",
    "            print(\"Your electricity bill is :\",int(bill))\n"
   ]
  },
  {
   "cell_type": "code",
   "execution_count": 4,
   "id": "983c9aa4-8698-44d0-ac36-dbf576a2e5e4",
   "metadata": {},
   "outputs": [
    {
     "name": "stdout",
     "output_type": "stream",
     "text": [
      "[8, 64, 125, 216, 512, 1000, 1728, 2744, 3375, 4096, 5832, 8000, 10648, 13824, 15625, 17576, 21952, 27000, 32768, 39304, 42875, 46656, 54872, 64000, 74088, 85184, 91125, 97336, 110592, 125000, 140608, 157464, 166375, 175616, 195112, 216000, 238328, 262144, 274625, 287496, 314432, 343000, 373248, 405224, 421875, 438976, 474552, 512000, 551368, 592704, 614125, 636056, 681472, 729000, 778688, 830584, 857375, 884736, 941192, 1000000]\n"
     ]
    }
   ],
   "source": [
    "# 4. Create a list of numbers 1 to 100. Use for loop and while loop to calculate the cube of each number and if the cube of that number is divisible by 4 or 5 then append that number in a list and print that list.\n",
    "\n",
    "#  for loop : ---------\n",
    "l1 = []\n",
    "for i in range(1, 101):\n",
    "    l1.append(i*i*i)\n",
    "l = []\n",
    "for i in l1:\n",
    "    if(i%4==0 or i%5 ==0):\n",
    "        l.append(i)\n",
    "    \n",
    "print(l)\n",
    "\n",
    "# while loop :------\n",
    "\n",
    "l1 =[]\n",
    "i=1\n",
    "while(i<=100):\n",
    "    l1.append(i*i*i)\n",
    "    i += 1\n",
    "l=[]\n",
    "\n",
    "for i in l1:\n",
    "    if(i%4==0 or i%5==0):\n",
    "        l.append(i)\n",
    " \n",
    "print(l)\n",
    "\n",
    "\n"
   ]
  },
  {
   "cell_type": "code",
   "execution_count": 5,
   "id": "1aaaf7e6-13c4-4d1d-95da-ebabc6136cc3",
   "metadata": {},
   "outputs": [
    {
     "name": "stdout",
     "output_type": "stream",
     "text": [
      "I want to become a data scienctist\n",
      "vowels are : ['I', 'a', 'o', 'e', 'o', 'e', 'a', 'a', 'a', 'e']\n",
      "Consonents are :  [' ', 'w', 'n', 't', ' ', 't', ' ', 'b', 'c', 'm', ' ', ' ', 'd', 't', ' ', 's', 'c', 'i', 'n', 'c', 't', 'i', 's', 't']\n"
     ]
    }
   ],
   "source": [
    "# 5. Write a program to filter count vowels in the below - given string. \n",
    "\n",
    "string = \"I want to become a data scienctist\"\n",
    "\n",
    "l1 = []\n",
    "l2 = []\n",
    "for i in string:\n",
    "    if(i==\"a\" or i==\"e\" or i==\"o\" or i==\"u\" or i==\"A\" or i==\"E\" or i==\"I\" or i==\"O\" or i==\"U\"):\n",
    "        l1.append(i)\n",
    "\n",
    "    else:\n",
    "        l2.append(i)\n",
    "print(string)\n",
    "print(\"vowels are :\", l1)\n",
    "print(\"Consonents are : \",l2)"
   ]
  },
  {
   "cell_type": "code",
   "execution_count": null,
   "id": "aa98ce8d-4d1e-4b27-8e0a-cf345795523c",
   "metadata": {},
   "outputs": [],
   "source": []
  }
 ],
 "metadata": {
  "kernelspec": {
   "display_name": "Python 3 (ipykernel)",
   "language": "python",
   "name": "python3"
  },
  "language_info": {
   "codemirror_mode": {
    "name": "ipython",
    "version": 3
   },
   "file_extension": ".py",
   "mimetype": "text/x-python",
   "name": "python",
   "nbconvert_exporter": "python",
   "pygments_lexer": "ipython3",
   "version": "3.10.8"
  }
 },
 "nbformat": 4,
 "nbformat_minor": 5
}
